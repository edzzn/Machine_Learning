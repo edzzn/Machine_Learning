{
 "cells": [
  {
   "cell_type": "code",
   "execution_count": 1,
   "metadata": {
    "collapsed": true
   },
   "outputs": [],
   "source": [
    "import numpy as np"
   ]
  },
  {
   "cell_type": "code",
   "execution_count": 2,
   "metadata": {},
   "outputs": [],
   "source": [
    "points = np.genfromtxt('data.csv', delimiter=',')"
   ]
  },
  {
   "cell_type": "code",
   "execution_count": 3,
   "metadata": {},
   "outputs": [],
   "source": [
    "# hyperparameters\n",
    "learning_rate = 0.00001\n",
    "\n",
    "# y = mx + b\n",
    "initial_b = 0\n",
    "initial_m = 0\n",
    "\n",
    "num_iterations = 1000"
   ]
  },
  {
   "cell_type": "code",
   "execution_count": 4,
   "metadata": {},
   "outputs": [],
   "source": [
    "def compute_error_for_given_point(b, m, points):\n",
    "    error = 0\n",
    "    for point in points:\n",
    "        y = point[0] * m + b\n",
    "        error += (point[1] - y) **2\n",
    "        \n",
    "    return error / float(len(points))"
   ]
  },
  {
   "cell_type": "code",
   "execution_count": 5,
   "metadata": {},
   "outputs": [],
   "source": [
    "def step_gradient(b_current, m_current, points, learning_rate):\n",
    "    b_gradiant = 0\n",
    "    m_gradiant = 0\n",
    "    N = float(len(points))\n",
    "    \n",
    "    \n",
    "    for point in points:\n",
    "        \n",
    "        b_gradiant += - (2/N) * (point[1] - (m_current * point[0] + b_current))\n",
    "        m_gradiant += - (2/N) * point[0] * (point[1] - (m_current * point[0] + b_current))\n",
    "    \n",
    "    new_b = b_current - (learning_rate * b_gradiant)\n",
    "    new_m = m_current - (learning_rate * m_gradiant)\n",
    "    \n",
    "    return new_b, new_m"
   ]
  },
  {
   "cell_type": "code",
   "execution_count": 6,
   "metadata": {
    "collapsed": true
   },
   "outputs": [],
   "source": [
    "def gradient_descent_runner(points, initial_b, initial_m, learning_rate, num_iterations):\n",
    "    b = initial_b\n",
    "    m = initial_m\n",
    "    \n",
    "    for i in range(num_iterations):\n",
    "        b,m = step_gradient(b, m, np.array(points), learning_rate)\n",
    "        \n",
    "    \n",
    "    return b, m"
   ]
  },
  {
   "cell_type": "code",
   "execution_count": 7,
   "metadata": {},
   "outputs": [
    {
     "name": "stdout",
     "output_type": "stream",
     "text": [
      "0.0350749501965\n",
      "1.47880271793\n"
     ]
    }
   ],
   "source": [
    "b, m = gradient_descent_runner(points, initial_b, initial_m, learning_rate, num_iterations)\n",
    "print(b)\n",
    "print(m)"
   ]
  },
  {
   "cell_type": "code",
   "execution_count": 8,
   "metadata": {},
   "outputs": [
    {
     "data": {
      "image/png": "[encoded data removed]",
      "text/plain": [
       "<matplotlib.figure.Figure at 0x7ffa008baeb8>"
      ]
     },
     "metadata": {},
     "output_type": "display_data"
    }
   ],
   "source": [
    "import matplotlib.pyplot as plt\n",
    "%matplotlib inline\n",
    "list_x = []\n",
    "list_y = []\n",
    "for point in points:\n",
    "    list_x.append(point[0]) \n",
    "    list_y.append(point[0] * m + b) \n",
    "\n",
    "plt.plot(list_x, list_y)\n",
    "for point in points:\n",
    "    plt.scatter(point[0], point[1])"
   ]
  }
 ],
 "metadata": {
  "kernelspec": {
   "display_name": "Python [default]",
   "language": "python",
   "name": "python3"
  },
  "language_info": {
   "codemirror_mode": {
    "name": "ipython",
    "version": 3
   },
   "file_extension": ".py",
   "mimetype": "text/x-python",
   "name": "python",
   "nbconvert_exporter": "python",
   "pygments_lexer": "ipython3",
   "version": "3.6.2"
  }
 },
 "nbformat": 4,
 "nbformat_minor": 2
}
