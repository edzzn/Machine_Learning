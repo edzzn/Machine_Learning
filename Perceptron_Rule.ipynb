{
 "cells": [
  {
   "cell_type": "markdown",
   "metadata": {
    "collapsed": true
   },
   "source": [
    ""
   ]
  },
  {
   "cell_type": "markdown",
   "metadata": {},
   "source": [
    "# Perceptor\n",
    "\n",
    "The convergence of the perceptron is only guaranteed if the two classes are linearly separable and the learning rate is small enought.\n",
    "\n",
    "If the classes can't be separated by a line, we can set a maximin number of passes over the training dataset (epochs) and/or a threshold for the number of tolerated missclassifactions.\n",
    "\n",
    "![Linearly Separable and Not Linearly Separable ](https://github.com/edzzn/Machine_Learning/blob/master/images/linearly_separable_not_separable.png?raw=true)"
   ]
  },
  {
   "cell_type": "markdown",
   "metadata": {},
   "source": [
    "# Perception Rule diagram\n",
    "![](https://sebastianraschka.com/images/faq/classifier-history/perceptron-figure.png)\n",
    "\n",
    "The perceptron recieves the inputs __x__ and combines them with the weights __w__.\n",
    "\n",
    "Then the net input is passed to the activation funtion that outputs -1 or 1. In the learning phase the output is used to calculate the error and update the weights."
   ]
  },
  {
   "cell_type": "code",
   "execution_count": null,
   "metadata": {},
   "outputs": [],
   "source": [
    "# Implementation Perceptron Learning Algorithm\n",
    "\n",
    "This is an implemetation on the __Iris Dataset__\n"
   ]
  }
 ],
 "metadata": {
  "kernelspec": {
   "display_name": "Python 2",
   "language": "python",
   "name": "python2"
  },
  "language_info": {
   "codemirror_mode": {
    "name": "ipython",
    "version": 2.0
   },
   "file_extension": ".py",
   "mimetype": "text/x-python",
   "name": "python",
   "nbconvert_exporter": "python",
   "pygments_lexer": "ipython2",
   "version": "2.7.6"
  }
 },
 "nbformat": 4,
 "nbformat_minor": 0
}