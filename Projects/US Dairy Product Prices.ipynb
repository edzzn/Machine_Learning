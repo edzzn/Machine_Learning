{
 "cells": [
  {
   "cell_type": "markdown",
   "metadata": {},
   "source": [
    "# Weekly Dairy Product Prices - Predicting prices\n",
    "\n",
    "\n"
   ]
  },
  {
   "cell_type": "markdown",
   "metadata": {},
   "source": [
    "In this notebook I am going to attempt to predict the prices of dairy products in the US. \n",
    "\n",
    "## Dataset\n",
    "I will be using the **[https://www.kaggle.com/sohier/weekly-dairy-product-prices](https://www.kaggle.com/sohier/weekly-dairy-product-prices)** uploaded to Keggle by [@sohier](https://www.kaggle.com/sohier)\n",
    "\n",
    "In specific I am going to analize the **\"40 Pound Block Cheddar Cheese Prices and Sales\" data.**"
   ]
  },
  {
   "cell_type": "code",
   "execution_count": 1,
   "metadata": {
    "collapsed": true
   },
   "outputs": [],
   "source": [
    "%matplotlib inline\n",
    "import csv\n",
    "import time\n",
    "import numpy as np\n",
    "import matplotlib.pyplot as plt\n",
    "import tensorflow as tf\n",
    "import datetime as dt"
   ]
  },
  {
   "cell_type": "markdown",
   "metadata": {},
   "source": [
    "Read the data and move it into a list. Also remove the (** \" **) quotes from the data"
   ]
  },
  {
   "cell_type": "code",
   "execution_count": 2,
   "metadata": {
    "collapsed": true,
    "scrolled": true
   },
   "outputs": [],
   "source": [
    "file_name = 'Datamart-Export_DY_WK100-40 Pound Block Cheddar Cheese Prices and Sales_20170829_122601.csv'\n",
    "data = []\n",
    "with open(file_name, 'r') as f:\n",
    "    data = [i.replace('\"', '').split(',') for i in f.read().split('\\n')]"
   ]
  },
  {
   "cell_type": "code",
   "execution_count": 3,
   "metadata": {
    "scrolled": true
   },
   "outputs": [
    {
     "data": {
      "text/plain": [
       "[['Week Ending Date', 'Report Date', 'Date', 'Weighted Prices', 'Sales'],\n",
       " ['08/19/2017', '08/23/2017', '07/22', '1.5907', '11', '217', '751'],\n",
       " ['08/19/2017', '08/23/2017', '07/29', '1.6226', '11', '933', '852']]"
      ]
     },
     "execution_count": 3,
     "metadata": {},
     "output_type": "execute_result"
    }
   ],
   "source": [
    "data[:3]"
   ]
  },
  {
   "cell_type": "code",
   "execution_count": 4,
   "metadata": {},
   "outputs": [
    {
     "data": {
      "text/plain": [
       "[['03/31/2012', '04/04/2012', '03/10', '1.4926', '9', '904', '507'],\n",
       " ['03/31/2012', '04/04/2012', '03/03', '1.4873', '9', '306', '594'],\n",
       " ['']]"
      ]
     },
     "execution_count": 4,
     "metadata": {},
     "output_type": "execute_result"
    }
   ],
   "source": [
    "data[-3:]"
   ]
  },
  {
   "cell_type": "markdown",
   "metadata": {},
   "source": [
    "We need to remove the last row, It is empty.\n",
    "\n",
    "We also separate the header form the data."
   ]
  },
  {
   "cell_type": "code",
   "execution_count": 5,
   "metadata": {
    "collapsed": true
   },
   "outputs": [],
   "source": [
    "header = data[0]\n",
    "data = data[1:-1]"
   ]
  },
  {
   "cell_type": "markdown",
   "metadata": {},
   "source": [
    "We extract the prices and the dates. The dates **Do not have the year**, we need to get it from the Report Date Column"
   ]
  },
  {
   "cell_type": "code",
   "execution_count": 6,
   "metadata": {
    "collapsed": true
   },
   "outputs": [],
   "source": [
    "dates = []\n",
    "years = []\n",
    "prices = []\n",
    "for row in data:\n",
    "    # Next line, gets the column 'Report Date' and takes only the year from it.\n",
    "    years.append(row[1].split('/')[-1])\n",
    "    dates.append(row[2])\n",
    "    prices.append(row[3])"
   ]
  },
  {
   "cell_type": "markdown",
   "metadata": {},
   "source": [
    "We compleat the format of the dates."
   ]
  },
  {
   "cell_type": "code",
   "execution_count": 7,
   "metadata": {
    "collapsed": true
   },
   "outputs": [],
   "source": [
    "dates = [date + '/' + year for date, year in zip(dates, years)]"
   ]
  },
  {
   "cell_type": "code",
   "execution_count": 8,
   "metadata": {},
   "outputs": [
    {
     "data": {
      "text/plain": [
       "['03/31/2012', '03/24/2012', '03/17/2012', '03/10/2012', '03/03/2012']"
      ]
     },
     "execution_count": 8,
     "metadata": {},
     "output_type": "execute_result"
    }
   ],
   "source": [
    "dates[-5:]"
   ]
  },
  {
   "cell_type": "markdown",
   "metadata": {},
   "source": [
    "Using the 'datetime' library we conver the data to be used to plot it."
   ]
  },
  {
   "cell_type": "code",
   "execution_count": 9,
   "metadata": {
    "collapsed": true,
    "scrolled": true
   },
   "outputs": [],
   "source": [
    "trX = np.array([dt.datetime.strptime(d,'%m/%d/%Y').date() for d in dates])\n",
    "trY = np.array([float(i) for i in prices])"
   ]
  },
  {
   "cell_type": "code",
   "execution_count": 10,
   "metadata": {},
   "outputs": [
    {
     "data": {
      "text/plain": [
       "<matplotlib.collections.PathCollection at 0x7f5e16533390>"
      ]
     },
     "execution_count": 10,
     "metadata": {},
     "output_type": "execute_result"
    },
    {
     "data": {
      "image/png": "[encoded data removed]",
      "text/plain": [
       "<matplotlib.figure.Figure at 0x7f5e198b9630>"
      ]
     },
     "metadata": {},
     "output_type": "display_data"
    }
   ],
   "source": [
    "plt.scatter(trX, trY)"
   ]
  },
  {
   "cell_type": "markdown",
   "metadata": {},
   "source": [
    "## Implementation of Polynomial Regression Regession"
   ]
  },
  {
   "cell_type": "markdown",
   "metadata": {},
   "source": [
    "Set the hyper-parameters"
   ]
  },
  {
   "cell_type": "code",
   "execution_count": 11,
   "metadata": {
    "collapsed": true
   },
   "outputs": [],
   "source": [
    "learning_rate = 0.000025\n",
    "epochs = 200000\n",
    "\n",
    "num_coeffs = 8"
   ]
  },
  {
   "cell_type": "markdown",
   "metadata": {},
   "source": [
    "One more change to the date. **x** has datatime objects, we need them to be a number"
   ]
  },
  {
   "cell_type": "code",
   "execution_count": 12,
   "metadata": {},
   "outputs": [
    {
     "name": "stdout",
     "output_type": "stream",
     "text": [
      "[-1.408 -1.406 -1.404 ...,  1.406  1.408  1.41 ]\n"
     ]
    }
   ],
   "source": [
    "trX_i = np.array([i for i in range(1, len(trX)+1)])\n",
    "\n",
    "# Divide X a bit more and centre on zero\n",
    " \n",
    "trX_i = np.divide(trX_i, 500)\n",
    "trX_i = trX_i - np.max(trX_i)/2\n",
    "print(trX_i)"
   ]
  },
  {
   "cell_type": "code",
   "execution_count": 13,
   "metadata": {
    "collapsed": true
   },
   "outputs": [],
   "source": [
    "# trX = [(i-dt.date(2010,1,1)).total_seconds() for i in trX]"
   ]
  },
  {
   "cell_type": "code",
   "execution_count": 14,
   "metadata": {},
   "outputs": [
    {
     "name": "stdout",
     "output_type": "stream",
     "text": [
      "[ 1.5907  1.6226  1.6822 ...,  1.4955  1.4926  1.4873]\n"
     ]
    }
   ],
   "source": [
    "trY_i = trY\n",
    "print(trY_i)"
   ]
  },
  {
   "cell_type": "code",
   "execution_count": 15,
   "metadata": {},
   "outputs": [
    {
     "data": {
      "text/plain": [
       "<matplotlib.collections.PathCollection at 0x7f5e164860f0>"
      ]
     },
     "execution_count": 15,
     "metadata": {},
     "output_type": "execute_result"
    },
    {
     "data": {
      "image/png": "[encoded data removed]",
      "text/plain": [
       "<matplotlib.figure.Figure at 0x7f5e58303320>"
      ]
     },
     "metadata": {},
     "output_type": "display_data"
    }
   ],
   "source": [
    "plt.scatter(trX_i, trY_i)"
   ]
  },
  {
   "cell_type": "markdown",
   "metadata": {},
   "source": [
    "We define the placeholder for the model"
   ]
  },
  {
   "cell_type": "code",
   "execution_count": 16,
   "metadata": {
    "collapsed": true
   },
   "outputs": [],
   "source": [
    "X = tf.placeholder(tf.float32)\n",
    "Y = tf.placeholder(tf.float32)"
   ]
  },
  {
   "cell_type": "markdown",
   "metadata": {},
   "source": [
    "We define the Model"
   ]
  },
  {
   "cell_type": "code",
   "execution_count": 17,
   "metadata": {
    "collapsed": true
   },
   "outputs": [],
   "source": [
    "def model(X, w):\n",
    "    terms = []\n",
    "    for i in range(num_coeffs):\n",
    "        term = tf.multiply(w[i], tf.pow(X, i))\n",
    "        terms.append(term)\n",
    "    return tf.add_n(terms)"
   ]
  },
  {
   "cell_type": "markdown",
   "metadata": {},
   "source": [
    "Set up the parameter vector to zeros"
   ]
  },
  {
   "cell_type": "code",
   "execution_count": 18,
   "metadata": {
    "collapsed": true
   },
   "outputs": [],
   "source": [
    "weitghs = tf.Variable(tf.truncated_normal((num_coeffs,), mean=0.0, stddev=0.05, name='parameters'))"
   ]
  },
  {
   "cell_type": "code",
   "execution_count": 19,
   "metadata": {
    "collapsed": true
   },
   "outputs": [],
   "source": [
    "# with tf.Session() as sess:\n",
    "#     sess.run(tf.global_variables_initializer())\n",
    "#     w_val = sess.run(weitghs)\n",
    "#     print(w_val) "
   ]
  },
  {
   "cell_type": "code",
   "execution_count": 20,
   "metadata": {
    "collapsed": true
   },
   "outputs": [],
   "source": [
    "# weitghs = tf.Variable([0.] * num_coeffs, name='parameters')\n",
    "y_model = model(X, weitghs)"
   ]
  },
  {
   "cell_type": "markdown",
   "metadata": {},
   "source": [
    "We define a simple cost function"
   ]
  },
  {
   "cell_type": "code",
   "execution_count": 21,
   "metadata": {
    "collapsed": true
   },
   "outputs": [],
   "source": [
    "cost = tf.reduce_sum(tf.square(Y-y_model))\n",
    "train_op = tf.train.GradientDescentOptimizer(learning_rate).minimize(cost)"
   ]
  },
  {
   "cell_type": "markdown",
   "metadata": {},
   "source": [
    "Star the session, initialize the variables and run the trainig algorithm"
   ]
  },
  {
   "cell_type": "code",
   "execution_count": 22,
   "metadata": {
    "scrolled": true
   },
   "outputs": [
    {
     "name": "stdout",
     "output_type": "stream",
     "text": [
      "Epoch: 0, Cost: 4239.6201171875\n",
      "[ 0.11586189  0.07908911  0.10426807  0.06403776  0.08837347  0.00216651\n",
      "  0.14670402 -0.04700135]\n",
      "Epoch: 20000, Cost: 31.782737731933594\n",
      "[ 1.95397675  0.72730589 -1.01140034 -1.47110093  1.16409099  1.0742991\n",
      " -0.39610913 -0.2696974 ]\n",
      "Epoch: 40000, Cost: 30.006851196289062\n",
      "[ 1.9616977   0.87479079 -1.08152425 -2.07748652  1.26168239  1.70708704\n",
      " -0.43025964 -0.45902702]\n",
      "Epoch: 60000, Cost: 29.61844253540039\n",
      "[ 1.96219373  0.94464982 -1.08589315 -2.36482811  1.26753831  2.00704598\n",
      " -0.43222708 -0.54880458]\n",
      "Epoch: 80000, Cost: 29.531108856201172\n",
      "[ 1.96221089  0.97776991 -1.08595884 -2.50106072  1.26750064  2.14927149\n",
      " -0.43216807 -0.59137577]\n",
      "Epoch: 100000, Cost: 29.511449813842773\n",
      "[ 1.96221793  0.99345613 -1.08595884 -2.56559253  1.26742554  2.21664762\n",
      " -0.43211713 -0.61154401]\n",
      "Epoch: 120000, Cost: 29.50700569152832\n",
      "[ 1.96222079  1.00090885 -1.08595443 -2.59626341  1.26738417  2.24866962\n",
      " -0.43209106 -0.62112874]\n",
      "Epoch: 140000, Cost: 29.506004333496094\n",
      "[ 1.96222079  1.00443363 -1.08593214 -2.61069512  1.2673353   2.2636919\n",
      " -0.43206841 -0.62561619]\n",
      "Epoch: 160000, Cost: 29.50577735900879\n",
      "[ 1.96222079  1.00611401 -1.08592165 -2.6175437   1.26731253  2.27080846\n",
      " -0.43205789 -0.6277402 ]\n",
      "Epoch: 180000, Cost: 29.505714416503906\n",
      "[ 1.96222079  1.00698292 -1.0859158  -2.6212194   1.26729953  2.27470636\n",
      " -0.43205181 -0.62891871]\n",
      "[ 1.96222079  1.00698292 -1.0859158  -2.6212194   1.26729953  2.27470636\n",
      " -0.43205181 -0.62891871]\n",
      "CPU times: user 4min 51s, sys: 21.4 s, total: 5min 12s\n",
      "Wall time: 2min 43s\n"
     ]
    }
   ],
   "source": [
    "%%time\n",
    "with tf.Session() as sess:\n",
    "    init = tf.global_variables_initializer()\n",
    "    sess.run(init)\n",
    "    for epoch in range(epochs):\n",
    "#         for (x,y) in zip(trX_i, trY_i):\n",
    "        _, c = sess.run([train_op, cost], feed_dict={X: trX_i, Y:trY_i})\n",
    "        w_val = sess.run(weitghs)\n",
    "        if epoch % 20000 == 0:  \n",
    "            print(\"Epoch: {}, Cost: {}\".format(epoch, c))\n",
    "            print(w_val)\n",
    "            \n",
    "            \n",
    "            \n",
    "#     w_val = sess.run(weitghs)\n",
    "    print(w_val)"
   ]
  },
  {
   "cell_type": "code",
   "execution_count": 25,
   "metadata": {
    "scrolled": true
   },
   "outputs": [
    {
     "data": {
      "text/plain": [
       "array([ 1.96222079,  1.00698292, -1.0859158 , -2.6212194 ,  1.26729953,\n",
       "        2.27470636, -0.43205181, -0.62891871], dtype=float32)"
      ]
     },
     "execution_count": 25,
     "metadata": {},
     "output_type": "execute_result"
    }
   ],
   "source": [
    "w_val"
   ]
  },
  {
   "cell_type": "code",
   "execution_count": 26,
   "metadata": {
    "scrolled": true
   },
   "outputs": [
    {
     "data": {
      "text/plain": [
       "[<matplotlib.lines.Line2D at 0x7f5e16276048>]"
      ]
     },
     "execution_count": 26,
     "metadata": {},
     "output_type": "execute_result"
    },
    {
     "data": {
      "image/png": "[encoded data removed]",
      "text/plain": [
       "<matplotlib.figure.Figure at 0x7f5e16276400>"
      ]
     },
     "metadata": {},
     "output_type": "display_data"
    }
   ],
   "source": [
    "plt.scatter(trX_i, trY_i)\n",
    "trY2 = 0\n",
    "for i in range(num_coeffs):\n",
    "    trY2 += w_val[i] * np.power(trX_i, i)\n",
    "\n",
    "plt.plot(trX_i, trY2, 'r')\n"
   ]
  },
  {
   "cell_type": "code",
   "execution_count": null,
   "metadata": {
    "collapsed": true
   },
   "outputs": [],
   "source": []
  }
 ],
 "metadata": {
  "kernelspec": {
   "display_name": "Python 3",
   "language": "python",
   "name": "python3"
  },
  "language_info": {
   "codemirror_mode": {
    "name": "ipython",
    "version": 3
   },
   "file_extension": ".py",
   "mimetype": "text/x-python",
   "name": "python",
   "nbconvert_exporter": "python",
   "pygments_lexer": "ipython3",
   "version": "3.5.4"
  }
 },
 "nbformat": 4,
 "nbformat_minor": 2
}
