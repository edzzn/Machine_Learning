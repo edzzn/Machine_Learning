{
 "cells": [
  {
   "cell_type": "markdown",
   "metadata": {},
   "source": [
    "# TensorFlow Basic Math\n",
    "\n",
    "This notebook follows the [Understanding the Foundations of TensorFlow](https://www.pluralsight.com/courses/tensorflow-understanding-foundations) by Janani Ravi"
   ]
  },
  {
   "cell_type": "code",
   "execution_count": 1,
   "metadata": {
    "collapsed": true
   },
   "outputs": [],
   "source": [
    "import tensorflow as tf"
   ]
  },
  {
   "cell_type": "code",
   "execution_count": 2,
   "metadata": {
    "collapsed": true
   },
   "outputs": [],
   "source": [
    "# constants are inmutable, these are the edges of our graph\n",
    "a = tf.constant(6.5, name='constant_a')\n",
    "b = tf.constant(3.4, name='constant_b')\n",
    "c = tf.constant(3.0, name='constant_c')\n",
    "d = tf.constant(100.2, name='constant_d')"
   ]
  },
  {
   "cell_type": "code",
   "execution_count": 3,
   "metadata": {},
   "outputs": [],
   "source": [
    "square = tf.square(a, name=\"squeare_a\")\n",
    "power = tf.pow(b, c, name=\"pow_b_c\")\n",
    "sqrt = tf.sqrt(d, name=\"sqrt_d\")\n",
    "\n",
    "final_sum = tf.add_n([square, power, sqrt], name=\"final_sum\")\n",
    "\n",
    "sess = tf.Session()\n"
   ]
  },
  {
   "cell_type": "code",
   "execution_count": 4,
   "metadata": {},
   "outputs": [
    {
     "name": "stdout",
     "output_type": "stream",
     "text": [
      "Square of a: 42.25\n",
      "Power of a: 39.30400466918945\n",
      "Square root of a: 10.009994506835938\n",
      "Sum of square, power, and square root 91.56399536132812\n"
     ]
    }
   ],
   "source": [
    "print(\"Square of a: {0}\".format(sess.run(square)))\n",
    "print(\"Power of a: {0}\".format(sess.run(power)))\n",
    "print(\"Square root of a: {0}\".format(sess.run(sqrt)))\n",
    "\n",
    "print(\"Sum of square, power, and square root {0}\".format(sess.run(final_sum)))"
   ]
  },
  {
   "cell_type": "code",
   "execution_count": 5,
   "metadata": {
    "collapsed": true
   },
   "outputs": [],
   "source": [
    "another_sum = tf.add_n([a,b,c,d,power], name=\"another_sum\")"
   ]
  },
  {
   "cell_type": "code",
   "execution_count": 6,
   "metadata": {
    "collapsed": true
   },
   "outputs": [],
   "source": [
    "# Save session info and close the session\n",
    "# We write the summary to be able to visualize it in tensorboard\n",
    "writer = tf.summary.FileWriter('./m2_example2', sess.graph)\n",
    "writer.close\n",
    "sess.close()"
   ]
  },
  {
   "cell_type": "code",
   "execution_count": null,
   "metadata": {
    "collapsed": true
   },
   "outputs": [],
   "source": []
  }
 ],
 "metadata": {
  "kernelspec": {
   "display_name": "Python 3",
   "language": "python",
   "name": "python3"
  },
  "language_info": {
   "codemirror_mode": {
    "name": "ipython",
    "version": 3
   },
   "file_extension": ".py",
   "mimetype": "text/x-python",
   "name": "python",
   "nbconvert_exporter": "python",
   "pygments_lexer": "ipython3",
   "version": "3.5.2"
  }
 },
 "nbformat": 4,
 "nbformat_minor": 2
}
